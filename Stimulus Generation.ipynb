{
 "cells": [
  {
   "cell_type": "markdown",
   "metadata": {},
   "source": [
    "# Stimulus Generation"
   ]
  },
  {
   "cell_type": "markdown",
   "metadata": {},
   "source": [
    "## Import Libraries"
   ]
  },
  {
   "cell_type": "code",
   "execution_count": 5,
   "metadata": {},
   "outputs": [],
   "source": [
    "import numpy as np\n",
    "import moviepy.editor as e\n",
    "import numpy.random as npr\n",
    "import time\n",
    "import os\n",
    "import json"
   ]
  },
  {
   "cell_type": "markdown",
   "metadata": {},
   "source": [
    "## Color Screen\n",
    "This section generates videos of transitioning colors."
   ]
  },
  {
   "cell_type": "code",
   "execution_count": 6,
   "metadata": {},
   "outputs": [],
   "source": [
    "def colorScreen(dur=10,h=500,w=500,speed=1,fps=20):\n",
    "    # number of transitions\n",
    "    num_switches = int(dur*speed)+1\n",
    "    # number of frames between transitions\n",
    "    num_frames = int(fps/speed)\n",
    "    # begin and end colors\n",
    "    main_colors = 255*npr.rand(num_switches,3)\n",
    "    \n",
    "    colors = [] # labels\n",
    "    imgs = [] # frames\n",
    "    \n",
    "    # compute middle frames by linear interpolation\n",
    "    for i in range(num_switches-1):\n",
    "        c1 = main_colors[i] # first color\n",
    "        c2 = main_colors[i+1] # second color\n",
    "        for a in np.linspace(0,1,num_frames, endpoint=False):\n",
    "            interp_color = np.array(c1*(1-a)+c2*a, dtype = np.uint8) # interpolate\n",
    "            colors.append(interp_color) # append labels\n",
    "            x = np.ones((h, w, 3)) # initialize the frame\n",
    "            x[:, :, 0:3] = interp_color\n",
    "            imgs.append(x)\n",
    "    return imgs,colors        "
   ]
  },
  {
   "cell_type": "code",
   "execution_count": 7,
   "metadata": {},
   "outputs": [],
   "source": [
    "def color_stim_generator(folder,**kvargs):\n",
    "    # kvargs include dur, h, w, speed, fps\n",
    "    # unpack parameters\n",
    "    kvargs['experiment'] = 'COLOR'\n",
    "    dur = 10 if 'dur'not in kvargs else kvargs['dur']\n",
    "    kvargs['dur'] = dur\n",
    "    h = 500 if 'h' not in kvargs else kvargs['h']\n",
    "    kvargs['h'] = h\n",
    "    w = 500 if 'w' not in kvargs else kvargs['w']\n",
    "    kvargs['w'] = w\n",
    "    speed = 1 if 'speed' not in kvargs else kvargs['speed']\n",
    "    kvargs['speed'] = speed\n",
    "    fps = 20 if 'fps' not in kvargs else kvargs['fps']\n",
    "    kvargs['fps'] = fps\n",
    "    \n",
    "    # generate frames\n",
    "    image_list,color_list = colorScreen(dur,h,w,speed,fps)\n",
    "    # generate unique name\n",
    "    timestr = time.strftime(\"%Y%m%d-%H%M%S\")\n",
    "    folder_path = folder+timestr\n",
    "    os.mkdir(folder_path)\n",
    "    # make video clip\n",
    "    clip = e.ImageSequenceClip(image_list,fps)\n",
    "    # write video file\n",
    "    clip.write_videofile(folder_path+'/vid_'+timestr+'.mp4', audio=False)\n",
    "    # write the log file\n",
    "    with open(folder_path+'/log_'+'.json','w') as jsf:\n",
    "        kvargs['colors'] = [[int(color) for color in c] for c in color_list] #JSON hates np arrays\n",
    "        json.dump(kvargs,jsf)\n",
    "    print('done!')"
   ]
  },
  {
   "cell_type": "markdown",
   "metadata": {},
   "source": [
    "### Example usecases"
   ]
  },
  {
   "cell_type": "code",
   "execution_count": null,
   "metadata": {},
   "outputs": [],
   "source": [
    "# specify the path to save the files\n",
    "color_stim_path = '/Users/neo/newprotocol/color_stim/'\n",
    "# example parameters\n",
    "color_gen_params = {'dur':10,'h':500,'w':500,'speed':0.5, 'fps':20}"
   ]
  },
  {
   "cell_type": "code",
   "execution_count": 85,
   "metadata": {
    "scrolled": false
   },
   "outputs": [
    {
     "name": "stderr",
     "output_type": "stream",
     "text": [
      "t:  15%|█▌        | 31/201 [00:00<00:00, 308.09it/s, now=None]"
     ]
    },
    {
     "name": "stdout",
     "output_type": "stream",
     "text": [
      "Moviepy - Building video /Users/neo/newprotocol/color_stim/20190603-172522/vid_20190603-172522.mp4.\n",
      "Moviepy - Writing video /Users/neo/newprotocol/color_stim/20190603-172522/vid_20190603-172522.mp4\n",
      "\n"
     ]
    },
    {
     "name": "stderr",
     "output_type": "stream",
     "text": [
      "                                                               \r"
     ]
    },
    {
     "name": "stdout",
     "output_type": "stream",
     "text": [
      "Moviepy - Done !\n",
      "Moviepy - video ready /Users/neo/newprotocol/color_stim/20190603-172522/vid_20190603-172522.mp4\n",
      "done!\n"
     ]
    }
   ],
   "source": [
    "# example with given parameters\n",
    "color_stim_generator(color_stim_path,**color_gen_params)"
   ]
  },
  {
   "cell_type": "code",
   "execution_count": 87,
   "metadata": {
    "scrolled": false
   },
   "outputs": [
    {
     "name": "stderr",
     "output_type": "stream",
     "text": [
      "t:   7%|▋         | 21/300 [00:00<00:01, 199.67it/s, now=None]"
     ]
    },
    {
     "name": "stdout",
     "output_type": "stream",
     "text": [
      "Moviepy - Building video /Users/neo/newprotocol/color_stim/20190603-172551/vid_20190603-172551.mp4.\n",
      "Moviepy - Writing video /Users/neo/newprotocol/color_stim/20190603-172551/vid_20190603-172551.mp4\n",
      "\n"
     ]
    },
    {
     "name": "stderr",
     "output_type": "stream",
     "text": [
      "                                                               \r"
     ]
    },
    {
     "name": "stdout",
     "output_type": "stream",
     "text": [
      "Moviepy - Done !\n",
      "Moviepy - video ready /Users/neo/newprotocol/color_stim/20190603-172551/vid_20190603-172551.mp4\n",
      "done!\n"
     ]
    }
   ],
   "source": [
    "# example with default parameters and two user specified params\n",
    "color_stim_generator(color_stim_path, fps=30, h=800)"
   ]
  },
  {
   "cell_type": "markdown",
   "metadata": {},
   "source": [
    "## Cursor Screen\n",
    "This section generates videos of a moving white square (cursor) on black background"
   ]
  },
  {
   "cell_type": "code",
   "execution_count": 8,
   "metadata": {},
   "outputs": [],
   "source": [
    "def cursorScreen(dur=10,h=500,w=500,speed=1,fps=20, cursor_size = 10):\n",
    "    # number of transitions\n",
    "    num_switches = int(dur*speed)+1\n",
    "    # number of frames between transitions\n",
    "    num_frames = int(fps/speed)\n",
    "    \n",
    "    # check if cursor size is smaller than the screen size\n",
    "    if (cursor_size >=w or cursor_size >=h):\n",
    "        raise Exception('cursor size too big')\n",
    "        \n",
    "    # generate the x coordinates and make sure the cursor won't fall out of the borders\n",
    "    x_coords = (w-cursor_size)*npr.rand(num_switches)\n",
    "    # generate the y coordinates and make sure the cursor won't fall out of the borders\n",
    "    y_coords = (h-cursor_size)*npr.rand(num_switches)\n",
    "    \n",
    "    imgs = []\n",
    "    positions = [] #labels\n",
    "    \n",
    "    for i in range(num_switches-1):\n",
    "        # initial position of the cursor\n",
    "        x1 = x_coords[i]\n",
    "        y1 = y_coords[i]\n",
    "        # next position of the cursor\n",
    "        x2 = x_coords[i+1]\n",
    "        y2 = y_coords[i+1]\n",
    "        \n",
    "        for a in np.linspace(0,1,num_frames, endpoint=False):\n",
    "            interp_x = np.array(x1*(1-a)+x2*a, dtype = np.int)\n",
    "            interp_y = np.array(y1*(1-a)+y2*a, dtype = np.int)\n",
    "            positions.append([interp_x,interp_y])\n",
    "            img = np.zeros((h, w, 3))\n",
    "            img[interp_y:interp_y+cursor_size, interp_x:interp_x+cursor_size, :] =255 \n",
    "            imgs.append(img)\n",
    "    return imgs,positions"
   ]
  },
  {
   "cell_type": "code",
   "execution_count": 9,
   "metadata": {},
   "outputs": [],
   "source": [
    "def cursor_stim_generator(folder,**kvargs):\n",
    "    # kvargs include dur, h, w, speed, fps\n",
    "    # unpack parameters\n",
    "    kvargs['experiment'] = 'CURSOR'\n",
    "    dur = 10 if 'dur'not in kvargs else kvargs['dur']\n",
    "    kvargs['dur'] = dur\n",
    "    h = 500 if 'h' not in kvargs else kvargs['h']\n",
    "    kvargs['h'] = h\n",
    "    w = 500 if 'w' not in kvargs else kvargs['w']\n",
    "    kvargs['w'] = w\n",
    "    speed = 1 if 'speed' not in kvargs else kvargs['speed']\n",
    "    kvargs['speed'] = speed\n",
    "    fps = 20 if 'fps' not in kvargs else kvargs['fps']\n",
    "    kvargs['fps'] = fps\n",
    "    cursor_size = 10 if 'cursor_size' not in kvargs else kvargs['cursor_size']\n",
    "    kvargs['cursor_size'] = cursor_size\n",
    "    \n",
    "    # generate frames\n",
    "    image_list,pos_list = cursorScreen(dur,h,w,speed,fps,cursor_size)\n",
    "    # generate unique name\n",
    "    timestr = time.strftime(\"%Y%m%d-%H%M%S\")\n",
    "    folder_path = folder+timestr\n",
    "    os.mkdir(folder_path)\n",
    "    # make video clip\n",
    "    clip = e.ImageSequenceClip(image_list,fps)\n",
    "    # write video file\n",
    "    clip.write_videofile(folder_path+'/vid_'+timestr+'.mp4', audio=False)\n",
    "    # write the log file\n",
    "    with open(folder_path+'/log_'+'.json','w') as jsf:\n",
    "        kvargs['positions'] = [[int(pos) for pos in p] for p in pos_list] #JSON hates np arrays\n",
    "        json.dump(kvargs,jsf)\n",
    "    print('done!')"
   ]
  },
  {
   "cell_type": "markdown",
   "metadata": {},
   "source": [
    "### Example Usecases"
   ]
  },
  {
   "cell_type": "code",
   "execution_count": null,
   "metadata": {},
   "outputs": [],
   "source": [
    "cursor_stim_path = '/Users/neo/newprotocol/cursor_stim/'\n",
    "cursor_gen_params = {'dur':10,'h':500,'w':500,'speed':0.5, 'fps':20, 'cursor_size':10}"
   ]
  },
  {
   "cell_type": "code",
   "execution_count": 115,
   "metadata": {
    "scrolled": false
   },
   "outputs": [
    {
     "name": "stderr",
     "output_type": "stream",
     "text": [
      "t:  14%|█▍        | 29/201 [00:00<00:00, 285.41it/s, now=None]"
     ]
    },
    {
     "name": "stdout",
     "output_type": "stream",
     "text": [
      "Moviepy - Building video /Users/neo/newprotocol/cursor_stim/20190603-183802/vid_20190603-183802.mp4.\n",
      "Moviepy - Writing video /Users/neo/newprotocol/cursor_stim/20190603-183802/vid_20190603-183802.mp4\n",
      "\n"
     ]
    },
    {
     "name": "stderr",
     "output_type": "stream",
     "text": [
      "                                                               "
     ]
    },
    {
     "name": "stdout",
     "output_type": "stream",
     "text": [
      "Moviepy - Done !\n",
      "Moviepy - video ready /Users/neo/newprotocol/cursor_stim/20190603-183802/vid_20190603-183802.mp4\n",
      "done!\n"
     ]
    },
    {
     "name": "stderr",
     "output_type": "stream",
     "text": [
      "\r"
     ]
    }
   ],
   "source": [
    "cursor_stim_generator(cursor_stim_path,**cursor_gen_params)"
   ]
  },
  {
   "cell_type": "markdown",
   "metadata": {},
   "source": [
    "## Color_Cursor Screen\n",
    "This section generates videos of a moving white square (cursor) on colored background where the color changes with a potentially different speed"
   ]
  },
  {
   "cell_type": "code",
   "execution_count": 10,
   "metadata": {},
   "outputs": [],
   "source": [
    "def color_cursor_screen(dur=10, h=500, w=500,\n",
    "                        color_speed=0.5, cursor_speed=1,\n",
    "                        cursor_size=15, fps=20):\n",
    "    cursor_imgs,pos_list = cursorScreen(dur=dur,h=h\n",
    "                                        ,w=w,speed=cursor_speed,\n",
    "                                        fps=fps, cursor_size = cursor_size)\n",
    "    color_imgs,color_list = colorScreen(dur=dur,h=h,w=w,speed=color_speed,fps=fps)\n",
    "    all_imgs = [np.maximum(cursor_imgs[i],color_imgs[i]) for i in range(len(cursor_imgs))]\n",
    "    return all_imgs,pos_list,color_list\n"
   ]
  },
  {
   "cell_type": "code",
   "execution_count": 11,
   "metadata": {},
   "outputs": [],
   "source": [
    "def color_cursor_stim_generator(folder,**kvargs):\n",
    "    # kvargs include dur, h, w, speed, fps\n",
    "    # unpack parameters\n",
    "    kvargs['experiment'] = 'COLOR_CURSOR'\n",
    "    dur = 10 if 'dur'not in kvargs else kvargs['dur']\n",
    "    kvargs['dur'] = dur\n",
    "    h = 500 if 'h' not in kvargs else kvargs['h']\n",
    "    kvargs['h'] = h\n",
    "    w = 500 if 'w' not in kvargs else kvargs['w']\n",
    "    kvargs['w'] = w\n",
    "    color_speed = 1 if 'color_speed' not in kvargs else kvargs['color_speed']\n",
    "    kvargs['color_speed'] = color_speed\n",
    "    cursor_speed = 1 if 'cursor_speed' not in kvargs else kvargs['cursor_speed']\n",
    "    kvargs['cursor_speed'] = cursor_speed\n",
    "    fps = 20 if 'fps' not in kvargs else kvargs['fps']\n",
    "    kvargs['fps'] = fps\n",
    "    cursor_size = 10 if 'cursor_size' not in kvargs else kvargs['cursor_size']\n",
    "    kvargs['cursor_size'] = cursor_size\n",
    "    \n",
    "    # generate frames\n",
    "    image_list,pos_list,color_list = color_cursor_screen(dur,h,w,color_speed,cursor_speed,cursor_size,fps)\n",
    "    # generate unique name\n",
    "    timestr = time.strftime(\"%Y%m%d-%H%M%S\")\n",
    "    folder_path = folder+timestr\n",
    "    os.mkdir(folder_path)\n",
    "    # make video clip\n",
    "    clip = e.ImageSequenceClip(image_list,fps)\n",
    "    # write video file\n",
    "    clip.write_videofile(folder_path+'/vid_'+timestr+'.mp4', audio=False)\n",
    "    # write the log file\n",
    "    with open(folder_path+'/log_'+'.json','w') as jsf:\n",
    "        kvargs['colors'] = [[int(color) for color in c] for c in color_list] #JSON hates np arrays\n",
    "        kvargs['positions'] = [[int(pos) for pos in p] for p in pos_list] #JSON hates np arrays\n",
    "        json.dump(kvargs,jsf)\n",
    "    print('done!')"
   ]
  },
  {
   "cell_type": "markdown",
   "metadata": {},
   "source": [
    "### Example Usecases"
   ]
  },
  {
   "cell_type": "code",
   "execution_count": 155,
   "metadata": {},
   "outputs": [],
   "source": [
    "color_cursor_stim_path = '/Users/neo/newprotocol/color_cursor_stim/'\n",
    "color_cursor_gen_params = {'dur':10,'h':500,'w':500,'color_speed':1,'cursor_speed':2, 'fps':60, 'cursor_size':10}\n"
   ]
  },
  {
   "cell_type": "code",
   "execution_count": 156,
   "metadata": {},
   "outputs": [
    {
     "name": "stderr",
     "output_type": "stream",
     "text": [
      "t:   4%|▍         | 26/601 [00:00<00:02, 259.34it/s, now=None]"
     ]
    },
    {
     "name": "stdout",
     "output_type": "stream",
     "text": [
      "Moviepy - Building video /Users/neo/newprotocol/color_cursor_stim/20190603-192316/vid_20190603-192316.mp4.\n",
      "Moviepy - Writing video /Users/neo/newprotocol/color_cursor_stim/20190603-192316/vid_20190603-192316.mp4\n",
      "\n"
     ]
    },
    {
     "name": "stderr",
     "output_type": "stream",
     "text": [
      "                                                               \r"
     ]
    },
    {
     "name": "stdout",
     "output_type": "stream",
     "text": [
      "Moviepy - Done !\n",
      "Moviepy - video ready /Users/neo/newprotocol/color_cursor_stim/20190603-192316/vid_20190603-192316.mp4\n",
      "done!\n"
     ]
    }
   ],
   "source": [
    "color_cursor_stim_generator(color_cursor_stim_path,**color_cursor_gen_params)"
   ]
  },
  {
   "cell_type": "markdown",
   "metadata": {},
   "source": [
    "## Scaling_Cursor Screen\n",
    "This section generates videos of a moving and scaling white rectangle on a black background"
   ]
  },
  {
   "cell_type": "code",
   "execution_count": 32,
   "metadata": {},
   "outputs": [],
   "source": [
    "def scalingCursorScreen(dur=10,h=500,w=500,speed=1,fps=20, min_cursor_size = 20, max_cursor_size = 200):\n",
    "    num_switches = int(dur*speed)+1\n",
    "    num_frames = int(fps/speed)\n",
    "    x_scales = [int(s) for s in npr.uniform(min_cursor_size, max_cursor_size,num_switches)]\n",
    "    y_scales = [int(s) for s in npr.uniform(min_cursor_size, max_cursor_size,num_switches)]\n",
    "    x_coords = [(w-x)*npr.rand() for x in x_scales]\n",
    "    y_coords = [(h-y)*npr.rand() for y in y_scales]\n",
    "    imgs = []\n",
    "    positions = []\n",
    "    scales = []\n",
    "    for i in range(num_switches-1):\n",
    "        x1 = x_coords[i]\n",
    "        sx1 = x_scales[i]\n",
    "        x2 = x_coords[i+1]\n",
    "        sx2 = x_scales[i+1]\n",
    "        y1 = y_coords[i]\n",
    "        sy1 = y_scales[i]\n",
    "        y2 = y_coords[i+1]\n",
    "        sy2 = y_scales[i+1]\n",
    "        for a in np.linspace(0,1,num_frames, endpoint=False):\n",
    "            interp_x = np.array(x1*(1-a)+x2*a, dtype = np.int)\n",
    "            interp_y = np.array(y1*(1-a)+y2*a, dtype = np.int)\n",
    "            s_interp_x = np.array(sx1*(1-a)+sx2*a, dtype = np.int)\n",
    "            s_interp_y = np.array(sy1*(1-a)+sy2*a, dtype = np.int)\n",
    "            positions.append([interp_x,interp_y])\n",
    "            scales.append([s_interp_x,s_interp_y])\n",
    "            img = np.zeros((h, w, 3))\n",
    "            img[interp_y:interp_y+s_interp_y, interp_x:interp_x+s_interp_x, :] =255 \n",
    "            imgs.append(img)\n",
    "    return imgs,positions,scales"
   ]
  },
  {
   "cell_type": "code",
   "execution_count": 33,
   "metadata": {},
   "outputs": [],
   "source": [
    "def scaling_cursor_stim_generator(folder,**kvargs):\n",
    "    # kvargs include dur, h, w, speed, fps, max_cursor_size\n",
    "    # unpack parameters\n",
    "    kvargs['experiment'] = 'SCALING_CURSOR'\n",
    "    dur = 10 if 'dur'not in kvargs else kvargs['dur']\n",
    "    kvargs['dur'] = dur\n",
    "    h = 500 if 'h' not in kvargs else kvargs['h']\n",
    "    kvargs['h'] = h\n",
    "    w = 500 if 'w' not in kvargs else kvargs['w']\n",
    "    kvargs['w'] = w\n",
    "    speed = 1 if 'speed' not in kvargs else kvargs['speed']\n",
    "    kvargs['speed'] = speed\n",
    "    fps = 20 if 'fps' not in kvargs else kvargs['fps']\n",
    "    kvargs['fps'] = fps\n",
    "    max_cursor_size = 100 if 'max_cursor_size' not in kvargs else kvargs['max_cursor_size']\n",
    "    kvargs['max_cursor_size'] = max_cursor_size\n",
    "    min_cursor_size = 20 if 'min_cursor_size' not in kvargs else kvargs['min_cursor_size']\n",
    "    kvargs['min_cursor_size'] = min_cursor_size\n",
    "    \n",
    "    # generate frames\n",
    "    image_list,pos_list,scale_list = scalingCursorScreen(dur,h,w,speed,fps,min_cursor_size,max_cursor_size)\n",
    "    # generate unique name\n",
    "    timestr = time.strftime(\"%Y%m%d-%H%M%S\")\n",
    "    folder_path = folder+timestr\n",
    "    os.mkdir(folder_path)\n",
    "    # make video clip\n",
    "    clip = e.ImageSequenceClip(image_list,fps)\n",
    "    # write video file\n",
    "    clip.write_videofile(folder_path+'/vid_'+timestr+'.mp4', audio=False)\n",
    "    # write the log file\n",
    "    with open(folder_path+'/log_'+'.json','w') as jsf:\n",
    "        kvargs['scales'] = [[int(scale) for scale in s] for s in scale_list] #JSON hates np arrays\n",
    "        kvargs['positions'] = [[int(pos) for pos in p] for p in pos_list] #JSON hates np arrays\n",
    "        json.dump(kvargs,jsf)\n",
    "    print('done!')"
   ]
  },
  {
   "cell_type": "markdown",
   "metadata": {},
   "source": [
    "### Example Usecases"
   ]
  },
  {
   "cell_type": "code",
   "execution_count": 179,
   "metadata": {},
   "outputs": [],
   "source": [
    "scaling_cursor_stim_path = '/Users/neo/newprotocol/scaling_cursor_stim/'\n",
    "scaling_cursor_gen_params = {'dur':20,'h':500,'w':500,'speed':2, 'fps':60,'min_cursor_size':40,'max_cursor_size':200}"
   ]
  },
  {
   "cell_type": "code",
   "execution_count": 180,
   "metadata": {},
   "outputs": [
    {
     "name": "stderr",
     "output_type": "stream",
     "text": [
      "t:   3%|▎         | 37/1201 [00:00<00:03, 364.96it/s, now=None]"
     ]
    },
    {
     "name": "stdout",
     "output_type": "stream",
     "text": [
      "Moviepy - Building video /Users/neo/newprotocol/scaling_cursor_stim/20190603-205821/vid_20190603-205821.mp4.\n",
      "Moviepy - Writing video /Users/neo/newprotocol/scaling_cursor_stim/20190603-205821/vid_20190603-205821.mp4\n",
      "\n"
     ]
    },
    {
     "name": "stderr",
     "output_type": "stream",
     "text": [
      "                                                                 "
     ]
    },
    {
     "name": "stdout",
     "output_type": "stream",
     "text": [
      "Moviepy - Done !\n",
      "Moviepy - video ready /Users/neo/newprotocol/scaling_cursor_stim/20190603-205821/vid_20190603-205821.mp4\n",
      "done!\n"
     ]
    },
    {
     "name": "stderr",
     "output_type": "stream",
     "text": [
      "\r"
     ]
    }
   ],
   "source": [
    "scaling_cursor_stim_generator(scaling_cursor_stim_path,**scaling_cursor_gen_params)"
   ]
  },
  {
   "cell_type": "markdown",
   "metadata": {},
   "source": [
    "## Scaling_Color_Cursor Screen\n",
    "This section generates videos of a moving and scaling colored rectangle on a coloerd background"
   ]
  },
  {
   "cell_type": "code",
   "execution_count": 16,
   "metadata": {},
   "outputs": [],
   "source": [
    "def scalingColorCursorScreen(dur=10,h=500,w=500,cursor_speed=1,color_speed_in=2,color_speed_out=1,fps=20, min_cursor_size = 20, max_cursor_size = 200):\n",
    "    cursor_imgs_list,pos_list,scale_list = scalingCursorScreen(dur,h,w,cursor_speed,fps,min_cursor_size,max_cursor_size)\n",
    "    out_color_imgs,out_color_list = colorScreen(dur=dur,h=h,w=w,speed=color_speed_out,fps=fps)\n",
    "    in_color_imgs,in_color_list = colorScreen(dur=dur,h=h,w=w,speed=color_speed_in,fps=fps)\n",
    "    colored_cursor_imgs = [np.multiply(cursor_imgs_list[i]//255,in_color_imgs[i]) for i in range(len(cursor_imgs_list))]\n",
    "    mask_imgs = [np.multiply(1-(cursor_imgs_list[i]//255),out_color_imgs[i]) for i in range(len(cursor_imgs_list))]\n",
    "    all_imgs = [colored_cursor_imgs[i]+mask_imgs[i] for i in range(len(cursor_imgs_list))]\n",
    "    return all_imgs, pos_list, scale_list, in_color_list, out_color_list \n"
   ]
  },
  {
   "cell_type": "code",
   "execution_count": 17,
   "metadata": {},
   "outputs": [],
   "source": [
    "def scaling_color_cursor_stim_generator(folder,**kvargs):\n",
    "    # kvargs include dur, h, w, speed, fps, max_cursor_size\n",
    "    # unpack parameters\n",
    "    kvargs['experiment'] = 'SCALING_CURSOR'\n",
    "    dur = 10 if 'dur'not in kvargs else kvargs['dur']\n",
    "    kvargs['dur'] = dur\n",
    "    h = 500 if 'h' not in kvargs else kvargs['h']\n",
    "    kvargs['h'] = h\n",
    "    w = 500 if 'w' not in kvargs else kvargs['w']\n",
    "    kvargs['w'] = w\n",
    "    color_speed_in = 2 if 'color_speed_in' not in kvargs else kvargs['color_speed_in']\n",
    "    kvargs['color_speed_in'] = color_speed_in\n",
    "    color_speed_out = 1 if 'color_speed_out' not in kvargs else kvargs['color_speed_out']\n",
    "    kvargs['color_speed_out'] = color_speed_out\n",
    "    cursor_speed = 1 if 'cursor_speed' not in kvargs else kvargs['cursor_speed']\n",
    "    kvargs['cursor_speed'] = cursor_speed\n",
    "    fps = 20 if 'fps' not in kvargs else kvargs['fps']\n",
    "    kvargs['fps'] = fps\n",
    "    max_cursor_size = 100 if 'max_cursor_size' not in kvargs else kvargs['max_cursor_size']\n",
    "    kvargs['max_cursor_size'] = max_cursor_size\n",
    "    min_cursor_size = 20 if 'min_cursor_size' not in kvargs else kvargs['min_cursor_size']\n",
    "    kvargs['min_cursor_size'] = min_cursor_size\n",
    "    \n",
    "    # generate frames\n",
    "    image_list,pos_list,scale_list,in_color_list,out_color_list= scalingColorCursorScreen(\n",
    "        dur,h,w,cursor_speed,color_speed_in,color_speed_out,fps,min_cursor_size,max_cursor_size)\n",
    "    # generate unique name\n",
    "    timestr = time.strftime(\"%Y%m%d-%H%M%S\")\n",
    "    folder_path = folder+timestr\n",
    "    os.mkdir(folder_path)\n",
    "    # make video clip\n",
    "    clip = e.ImageSequenceClip(image_list,fps)\n",
    "    # write video file\n",
    "    clip.write_videofile(folder_path+'/vid_'+timestr+'.mp4', audio=False)\n",
    "    # write the log file\n",
    "    with open(folder_path+'/log_'+'.json','w') as jsf:\n",
    "        kvargs['scales'] = [[int(scale) for scale in s] for s in scale_list] #JSON hates np arrays\n",
    "        kvargs['positions'] = [[int(pos) for pos in p] for p in pos_list] #JSON hates np arrays\n",
    "        kvargs['in_colors'] = [[int(color) for color in c] for c in in_color_list] #JSON hates np arrays\n",
    "        kvargs['out_colors'] = [[int(color) for color in c] for c in out_color_list] #JSON hates np arrays\n",
    "        json.dump(kvargs,jsf)\n",
    "    print('done!')"
   ]
  },
  {
   "cell_type": "code",
   "execution_count": 24,
   "metadata": {},
   "outputs": [],
   "source": [
    "scaling_color_cursor_stim_path = '/Users/neo/newprotocol/scaling_color_cursor_stim/'\n",
    "scaling_color_cursor_gen_params = {'dur':20,'h':500,'w':500,\n",
    "                                   'cursor_speed':2,'color_speed_in':1,'color_speed_out':2,\n",
    "                                   'fps':60,'min_cursor_size':20,'max_cursor_size':200}\n"
   ]
  },
  {
   "cell_type": "code",
   "execution_count": 25,
   "metadata": {},
   "outputs": [
    {
     "name": "stderr",
     "output_type": "stream",
     "text": [
      "t:   1%|          | 13/1201 [00:00<00:09, 125.37it/s, now=None]"
     ]
    },
    {
     "name": "stdout",
     "output_type": "stream",
     "text": [
      "Moviepy - Building video /Users/neo/newprotocol/scaling_color_cursor_stim/20190604-140036/vid_20190604-140036.mp4.\n",
      "Moviepy - Writing video /Users/neo/newprotocol/scaling_color_cursor_stim/20190604-140036/vid_20190604-140036.mp4\n",
      "\n"
     ]
    },
    {
     "name": "stderr",
     "output_type": "stream",
     "text": [
      "                                                                 \r"
     ]
    },
    {
     "name": "stdout",
     "output_type": "stream",
     "text": [
      "Moviepy - Done !\n",
      "Moviepy - video ready /Users/neo/newprotocol/scaling_color_cursor_stim/20190604-140036/vid_20190604-140036.mp4\n",
      "done!\n"
     ]
    }
   ],
   "source": [
    "scaling_color_cursor_stim_generator(scaling_color_cursor_stim_path,**scaling_color_cursor_gen_params)"
   ]
  },
  {
   "cell_type": "code",
   "execution_count": 139,
   "metadata": {},
   "outputs": [],
   "source": [
    "def message_screen(text,dur=10,fps=20, h=500,w=500):\n",
    "#     start_audio = AudioFileClip('start.wav')\n",
    "#     end_audio = AudioFileClip('end.wav')\n",
    "    img = TextClip(text,color='white',bg_color='black',size=(h,w),fontsize=30)\n",
    "    img = img.img\n",
    "    imgs = [img for i in range(fps*dur)]\n",
    "    return imgs,text\n",
    "\n",
    "image_list,message = message_screen(text = 'move your head',dur=10,fps=20)\n",
    "clip = ImageSequenceClip(image_list,fps=20)\n",
    "clip.write_videofile('message.mp4', audio=False)"
   ]
  },
  {
   "cell_type": "code",
   "execution_count": null,
   "metadata": {},
   "outputs": [],
   "source": []
  },
  {
   "cell_type": "code",
   "execution_count": null,
   "metadata": {},
   "outputs": [],
   "source": []
  },
  {
   "cell_type": "code",
   "execution_count": null,
   "metadata": {},
   "outputs": [],
   "source": []
  },
  {
   "cell_type": "code",
   "execution_count": null,
   "metadata": {},
   "outputs": [],
   "source": []
  },
  {
   "cell_type": "code",
   "execution_count": 23,
   "metadata": {},
   "outputs": [],
   "source": [
    "cursor_imgs_list,pos_list,scale_list = scalingCursorScreen()"
   ]
  },
  {
   "cell_type": "code",
   "execution_count": 26,
   "metadata": {},
   "outputs": [
    {
     "data": {
      "text/plain": [
       "200"
      ]
     },
     "execution_count": 26,
     "metadata": {},
     "output_type": "execute_result"
    }
   ],
   "source": [
    "len(cursor_imgs_list)"
   ]
  },
  {
   "cell_type": "code",
   "execution_count": 30,
   "metadata": {},
   "outputs": [],
   "source": [
    "result = np.stack(cursor_imgs_list, axis=0)"
   ]
  },
  {
   "cell_type": "code",
   "execution_count": 31,
   "metadata": {},
   "outputs": [
    {
     "data": {
      "text/plain": [
       "(200, 500, 500, 3)"
      ]
     },
     "execution_count": 31,
     "metadata": {},
     "output_type": "execute_result"
    }
   ],
   "source": [
    "result.shape"
   ]
  },
  {
   "cell_type": "code",
   "execution_count": 28,
   "metadata": {},
   "outputs": [
    {
     "data": {
      "text/plain": [
       "(500, 500, 3)"
      ]
     },
     "execution_count": 28,
     "metadata": {},
     "output_type": "execute_result"
    }
   ],
   "source": [
    "cursor_imgs_list[0].shape"
   ]
  },
  {
   "cell_type": "code",
   "execution_count": null,
   "metadata": {},
   "outputs": [],
   "source": []
  }
 ],
 "metadata": {
  "kernelspec": {
   "display_name": "Python 3",
   "language": "python",
   "name": "python3"
  },
  "language_info": {
   "codemirror_mode": {
    "name": "ipython",
    "version": 3
   },
   "file_extension": ".py",
   "mimetype": "text/x-python",
   "name": "python",
   "nbconvert_exporter": "python",
   "pygments_lexer": "ipython3",
   "version": "3.7.3"
  }
 },
 "nbformat": 4,
 "nbformat_minor": 2
}
